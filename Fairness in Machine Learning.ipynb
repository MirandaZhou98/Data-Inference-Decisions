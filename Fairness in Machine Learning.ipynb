{
 "cells": [
  {
   "cell_type": "markdown",
   "metadata": {},
   "source": [
    "# Lab 1: Fairness and Machine Learning\n",
    "Welcome to the first DS102 lab! \n",
    "\n",
    "The goals of this lab are to get familiar with concepts in decision theory (true positive rates, false positive rates, etc.) through the lens of fairness in machine learning. This lab is adapted from Chapter 2 of the book [Fairness and Machine Learning: Limitations and Opportunities](https://fairmlbook.org).\n",
    "\n",
    "The code you need to write is commented out with a message \"TODO: fill in\". There is additional documentation for each part as you go along.\n",
    "\n",
    "\n",
    "## Course Policies\n",
    "\n",
    "**Collaboration Policy**\n",
    "\n",
    "Data science is a collaborative activity. While you may talk with others about the labs, we ask that you **write your solutions individually**. If you do discuss the assignments with others please **include their names** in the cell below.\n",
    "\n",
    "**Submission**: to submit this assignment, rerun the notebook from scratch (by selecting Kernel > Restart & Run all), and then print as a pdf (File > download as > pdf) and submit it to Gradescope.\n",
    "\n",
    "\n",
    "**This assignment should be completed and submitted before Thursday, January 30, 2020 at 11:59 PM.**"
   ]
  },
  {
   "cell_type": "markdown",
   "metadata": {},
   "source": [
    "# Collaborators\n",
    "Write the names of your collaborators in this cell."
   ]
  },
  {
   "cell_type": "markdown",
   "metadata": {},
   "source": [
    "# Introduction\n",
    "\n",
    "Risk assessment is an important component of the criminal justice system. In the United States, judges set\n",
    "bail and decide pre-trial detention based on their assessment of the risk that a released defendant would fail to\n",
    "appear at trial or cause harm to the public. While actuarial risk assessment is not new in this domain, there\n",
    "is increasing support for the use of learned risk scores to guide human judges in their decisions. Proponents\n",
    "argue that machine learning could lead to greater efficiency and less biased decisions compared with human\n",
    "judgment. Critical voices raise the concern that such scores can perpetuate inequalities found in historical\n",
    "data, and systematically harm historically disadvantaged groups.\n",
    "\n",
    "In this lab, we’ll begin to scratch at the surface of the complex criminal justice domain. Our\n",
    "starting point is an investigation carried out by ProPublica of a proprietary risk score, called the COMPAS\n",
    "score. These scores are intended to assess the risk that a defendant will re-offend, a task often called\n",
    "recidivism prediction. Within the academic community, the ProPublica article drew attention to issues with the use of machine learning for decision making."
   ]
  },
  {
   "cell_type": "markdown",
   "metadata": {},
   "source": [
    "# Setup\n",
    "Let's begin by importing the libraries we will use. \n",
    "* [matplotlib](https://matplotlib.org/3.1.1/contents.html)\n",
    "* [numpy](https://docs.scipy.org/doc/)\n",
    "* [pandas](https://pandas.pydata.org/pandas-docs/stable/)"
   ]
  },
  {
   "cell_type": "code",
   "execution_count": 1,
   "metadata": {},
   "outputs": [],
   "source": [
    "import matplotlib.pyplot as plt\n",
    "import matplotlib.ticker\n",
    "import numpy as np\n",
    "import pandas as pd\n",
    "\n",
    "%matplotlib inline\n",
    "\n",
    "# Imports and helper functions used for tests. \n",
    "import hashlib\n",
    "import sys\n",
    "def get_hash(num):\n",
    "    return hashlib.md5(str(num).encode()).hexdigest()"
   ]
  },
  {
   "cell_type": "markdown",
   "metadata": {},
   "source": [
    "# Dataset setup\n",
    "We’ll use data obtained and released by ProPublica as a result of a public records request in Broward\n",
    "Country, Florida, concerning the COMPAS recidivism prediction system. The data is available at https://raw.githubusercontent.com/propublica/compas-analysis/master/compas-scores-two-years.csv. Following ProPublica’s analysis, we’ll filter out rows where `days_b_screening_arrest` is over $30$ or under $−30$, leaving us with $6,172$ rows.\n",
    "\n",
    "Here, we will download the data from the link above and apply this filter."
   ]
  },
  {
   "cell_type": "code",
   "execution_count": 2,
   "metadata": {},
   "outputs": [
    {
     "data": {
      "text/plain": [
       "6172"
      ]
     },
     "execution_count": 2,
     "metadata": {},
     "output_type": "execute_result"
    }
   ],
   "source": [
    "data_url = \"https://raw.githubusercontent.com/propublica/compas-analysis/master/compas-scores-two-years.csv\"\n",
    "df = pd.read_csv(data_url)\n",
    "df = df.query('days_b_screening_arrest <= 30 & days_b_screening_arrest >= -30')\n",
    "len(df)"
   ]
  },
  {
   "cell_type": "code",
   "execution_count": 3,
   "metadata": {},
   "outputs": [],
   "source": [
    "# We will also filter the data for only two races.\n",
    "races = ['African-American', 'Caucasian']\n",
    "df = df[df['race'].isin(races)]"
   ]
  },
  {
   "cell_type": "markdown",
   "metadata": {},
   "source": [
    "# 1. From scores to classifiers\n",
    "We will observe what happens when we use COMPAS risk scores to create a classifier to predict whether an individual will re-offend (recidivate).\n",
    "We are not given the original COMPAS risk score, but we are given a column which contains the decile of the COMPAS risk score (similar to a percentile, but out of 10). We will refer to this decile value (a number between 1 and 10) as our COMPAS \"decile score\". Our classifier will take the form of a threshold on the COMPAS decile score.\n"
   ]
  },
  {
   "cell_type": "markdown",
   "metadata": {},
   "source": [
    "### Group the dataset by `race` and `decile_score`."
   ]
  },
  {
   "cell_type": "code",
   "execution_count": 4,
   "metadata": {},
   "outputs": [],
   "source": [
    "# Create a separate dataframe for each race and decile_score pair.\n",
    "groups = df.groupby(['race', 'decile_score'], as_index=False)"
   ]
  },
  {
   "cell_type": "markdown",
   "metadata": {},
   "source": [
    "## 1a) For each `race`/`decile_score` pair, compute:\n",
    "1. the number of cases where recidivism occurred within two years,\n",
    "2. the number of cases where recidivism did not occur, and \n",
    "3. the total number of examples in the dataframe. \n",
    "\n",
    "Note: the column `two_year_recid` is a column that takes value 1 if recidivism occurred within two years, and 0 if recidivism did not occur."
   ]
  },
  {
   "cell_type": "code",
   "execution_count": 5,
   "metadata": {},
   "outputs": [
    {
     "name": "stdout",
     "output_type": "stream",
     "text": [
      "Total number of examples of recidivism in the dataset: 2483\n",
      "Test passed!\n"
     ]
    }
   ],
   "source": [
    "# TODO: compute the total number of examples in which recidivism occured within two years.\n",
    "def recid_count_fn(df_recid_column):\n",
    "    \"\"\"Computes the total number of examples in which recidivism occurred.\n",
    "    \n",
    "    Args: \n",
    "      df_recid_column: dataframe column where each row takes value 1 if \n",
    "        recidivism occured, and 0 if recidivism did not occur.\n",
    "    \n",
    "    Returns: \n",
    "      The total number of rows in which recidivism occurred.\n",
    "    \"\"\"\n",
    "    recid_count = df_recid_column.sum()\n",
    "    return recid_count \n",
    "\n",
    "print(\"Total number of examples of recidivism in the dataset:\", recid_count_fn(df['two_year_recid']))\n",
    "\n",
    "# Test for correctness of this function.\n",
    "assert(get_hash(recid_count_fn(df['two_year_recid'])) == '2c6ae45a3e88aee548c0714fad7f8269')\n",
    "print(\"Test passed!\")\n"
   ]
  },
  {
   "cell_type": "code",
   "execution_count": 6,
   "metadata": {},
   "outputs": [
    {
     "name": "stdout",
     "output_type": "stream",
     "text": [
      "Total number of examples of non-recidivism in the dataset: 2795\n",
      "Test passed!\n"
     ]
    }
   ],
   "source": [
    "# TODO: compute the total number of examples in which recidivism did not occur within two years.\n",
    "def non_recid_count_fn(df_recid_column):\n",
    "    \"\"\"Computes the total number of examples in which recidivism did not occur.\n",
    "    \n",
    "    Args: \n",
    "      df_recid_column: dataframe column where each row takes value 1 if \n",
    "        recidivism occured, and 0 if recidivism did not occur.\n",
    "    \n",
    "    Returns: \n",
    "      The total number of rows in which recidivism did not occur.\n",
    "    \"\"\"\n",
    "    non_recid_count = len(df_recid_column) - df_recid_column.sum()\n",
    "    return non_recid_count \n",
    "\n",
    "\n",
    "print(\"Total number of examples of non-recidivism in the dataset:\", non_recid_count_fn(df['two_year_recid']))\n",
    "\n",
    "# Test for correctness of this function.\n",
    "assert(get_hash(non_recid_count_fn(df['two_year_recid'])) == 'a7f592cef8b130a6967a90617db5681b')\n",
    "print(\"Test passed!\")\n"
   ]
  },
  {
   "cell_type": "code",
   "execution_count": 7,
   "metadata": {
    "scrolled": true
   },
   "outputs": [
    {
     "name": "stdout",
     "output_type": "stream",
     "text": [
      "Total number of examples in the dataset: 5278\n",
      "Test passed!\n"
     ]
    }
   ],
   "source": [
    "# TODO: Compute the total number of examples in the dataset.\n",
    "def total_count_fn(df_recid_column):\n",
    "    \"\"\"Computes the total number of examples in the dataset.\n",
    "    \n",
    "    Args: \n",
    "      df_recid_column: dataframe column where each row takes value 1 if \n",
    "        recidivism occured, and 0 if recidivism did not occur.\n",
    "    \n",
    "    Returns: \n",
    "      The total number of rows in the dataset.\n",
    "    \"\"\"\n",
    "    total_count = len(df_recid_column)\n",
    "    return total_count \n",
    "\n",
    "print(\"Total number of examples in the dataset:\", total_count_fn(df['two_year_recid']))\n",
    "\n",
    "# Test for correctness of this function.\n",
    "assert(get_hash(total_count_fn(df['two_year_recid'])) == '82f292a22966b857d968fb578ccbead9')\n",
    "print(\"Test passed!\")"
   ]
  },
  {
   "cell_type": "markdown",
   "metadata": {},
   "source": [
    "### Create the `summary` dataframe\n",
    "We now create a dataframe called `summary`, where each row contains summary statistics for each `race`/`decile_score` pair, including the total number of examples with that race and decile_score (`total_count`), the number of examples with that race and decile_score where recidivism occurred (`recid_count`), and the number of examples with that race and decile_score where recidivism did not occur (`non_recid_count`).\n",
    "\n",
    "The `.agg` function below applies the functions you just wrote over a column of the dataframe corresponding to each `race`/`decile_score` pair. \n",
    "Each function will be computed on the column `two_year_recid` for each `race`/`decile_score` pair."
   ]
  },
  {
   "cell_type": "code",
   "execution_count": 8,
   "metadata": {},
   "outputs": [
    {
     "data": {
      "text/html": [
       "<div>\n",
       "<style scoped>\n",
       "    .dataframe tbody tr th:only-of-type {\n",
       "        vertical-align: middle;\n",
       "    }\n",
       "\n",
       "    .dataframe tbody tr th {\n",
       "        vertical-align: top;\n",
       "    }\n",
       "\n",
       "    .dataframe thead th {\n",
       "        text-align: right;\n",
       "    }\n",
       "</style>\n",
       "<table border=\"1\" class=\"dataframe\">\n",
       "  <thead>\n",
       "    <tr style=\"text-align: right;\">\n",
       "      <th></th>\n",
       "      <th>race</th>\n",
       "      <th>decile_score</th>\n",
       "      <th>recid_count</th>\n",
       "      <th>non_recid_count</th>\n",
       "      <th>total_count</th>\n",
       "    </tr>\n",
       "  </thead>\n",
       "  <tbody>\n",
       "    <tr>\n",
       "      <th>4</th>\n",
       "      <td>African-American</td>\n",
       "      <td>5</td>\n",
       "      <td>158</td>\n",
       "      <td>165</td>\n",
       "      <td>323</td>\n",
       "    </tr>\n",
       "    <tr>\n",
       "      <th>5</th>\n",
       "      <td>African-American</td>\n",
       "      <td>6</td>\n",
       "      <td>187</td>\n",
       "      <td>131</td>\n",
       "      <td>318</td>\n",
       "    </tr>\n",
       "    <tr>\n",
       "      <th>6</th>\n",
       "      <td>African-American</td>\n",
       "      <td>7</td>\n",
       "      <td>209</td>\n",
       "      <td>134</td>\n",
       "      <td>343</td>\n",
       "    </tr>\n",
       "    <tr>\n",
       "      <th>7</th>\n",
       "      <td>African-American</td>\n",
       "      <td>8</td>\n",
       "      <td>215</td>\n",
       "      <td>86</td>\n",
       "      <td>301</td>\n",
       "    </tr>\n",
       "    <tr>\n",
       "      <th>8</th>\n",
       "      <td>African-American</td>\n",
       "      <td>9</td>\n",
       "      <td>229</td>\n",
       "      <td>88</td>\n",
       "      <td>317</td>\n",
       "    </tr>\n",
       "    <tr>\n",
       "      <th>9</th>\n",
       "      <td>African-American</td>\n",
       "      <td>10</td>\n",
       "      <td>190</td>\n",
       "      <td>37</td>\n",
       "      <td>227</td>\n",
       "    </tr>\n",
       "    <tr>\n",
       "      <th>14</th>\n",
       "      <td>Caucasian</td>\n",
       "      <td>5</td>\n",
       "      <td>91</td>\n",
       "      <td>109</td>\n",
       "      <td>200</td>\n",
       "    </tr>\n",
       "    <tr>\n",
       "      <th>15</th>\n",
       "      <td>Caucasian</td>\n",
       "      <td>6</td>\n",
       "      <td>93</td>\n",
       "      <td>67</td>\n",
       "      <td>160</td>\n",
       "    </tr>\n",
       "    <tr>\n",
       "      <th>16</th>\n",
       "      <td>Caucasian</td>\n",
       "      <td>7</td>\n",
       "      <td>68</td>\n",
       "      <td>45</td>\n",
       "      <td>113</td>\n",
       "    </tr>\n",
       "    <tr>\n",
       "      <th>17</th>\n",
       "      <td>Caucasian</td>\n",
       "      <td>8</td>\n",
       "      <td>72</td>\n",
       "      <td>24</td>\n",
       "      <td>96</td>\n",
       "    </tr>\n",
       "    <tr>\n",
       "      <th>18</th>\n",
       "      <td>Caucasian</td>\n",
       "      <td>9</td>\n",
       "      <td>55</td>\n",
       "      <td>22</td>\n",
       "      <td>77</td>\n",
       "    </tr>\n",
       "    <tr>\n",
       "      <th>19</th>\n",
       "      <td>Caucasian</td>\n",
       "      <td>10</td>\n",
       "      <td>35</td>\n",
       "      <td>15</td>\n",
       "      <td>50</td>\n",
       "    </tr>\n",
       "  </tbody>\n",
       "</table>\n",
       "</div>"
      ],
      "text/plain": [
       "                race  decile_score  recid_count  non_recid_count  total_count\n",
       "4   African-American             5          158              165          323\n",
       "5   African-American             6          187              131          318\n",
       "6   African-American             7          209              134          343\n",
       "7   African-American             8          215               86          301\n",
       "8   African-American             9          229               88          317\n",
       "9   African-American            10          190               37          227\n",
       "14         Caucasian             5           91              109          200\n",
       "15         Caucasian             6           93               67          160\n",
       "16         Caucasian             7           68               45          113\n",
       "17         Caucasian             8           72               24           96\n",
       "18         Caucasian             9           55               22           77\n",
       "19         Caucasian            10           35               15           50"
      ]
     },
     "execution_count": 8,
     "metadata": {},
     "output_type": "execute_result"
    }
   ],
   "source": [
    "# Each function will be computed on the column 'two_year_recid' for each group.\n",
    "# Note: no TODOs in this cell, just run the cell and understand what it's doing.\n",
    "summary = groups['two_year_recid'].agg({'recid_count': recid_count_fn, 'non_recid_count': non_recid_count_fn, 'total_count': total_count_fn})\n",
    "summary[summary['decile_score'] >= 5]"
   ]
  },
  {
   "cell_type": "markdown",
   "metadata": {},
   "source": [
    "## 1b) Compute the classifier outcomes for different decision thresholds.\n",
    "\n",
    "For each race in the `summary` dataframe, we will now observe the outcomes of the classifier when the decision threshold occurs at each `decile_score`.\n",
    "\n",
    "Specifically, we will iterate through the `decile_scores` in the `summary` dataframe, and for each `decile_score`, we will compute the number of true positives, true negatives, false positives, and false negatives under the assumption that the decision threshold occurs just below this `decile_score`. For example, in the row of the `summary` dataframe corresponding to a `decile_score` of 5, we will compute the number of true positives under the assumption that every example receiving a `decile_score` of 5 or above is classified as positive.\n"
   ]
  },
  {
   "cell_type": "code",
   "execution_count": 9,
   "metadata": {},
   "outputs": [
    {
     "name": "stdout",
     "output_type": "stream",
     "text": [
      "TP column for Caucasian: [822 694 594 512 414 323 230 162  90  35]\n",
      "Test passed!\n"
     ]
    }
   ],
   "source": [
    "# TODO: compute the number of true positives assuming the decision threshold \n",
    "# occurs just below each decile_score.\n",
    "# If you'd like, you may also restructure the loop inside this function \n",
    "# (but do not change the function definition).\n",
    "def get_TP_column(summary_df):\n",
    "    \"\"\"Returns an array of the number of true positives for each decile_score threshold.\n",
    "    \n",
    "    Args:\n",
    "      summary_df: dataframe containing columns for 'decile_score', 'recid_count', \n",
    "        'non_recid_count', and 'total_count' for a single race.\n",
    "    \n",
    "    Returns:\n",
    "      An array of the number of true positives for each decile_score (under the assumption that every example\n",
    "      receiving that row's decile_score or above is classified as positive -- aka, the decision threshold occurs\n",
    "      just below the row's decile score.)\n",
    "    \"\"\"\n",
    "    TPs = []\n",
    "    for threshold in summary_df['decile_score']:\n",
    "        true_positives = summary_df[summary_df['decile_score'] >= threshold]['recid_count'].sum()\n",
    "        # TODO: compute the number of true positives for this threshold. \n",
    "        # Hint: iterate through the summary_df, compare the threshold to 'decile_score', and add up the 'recid_count' column.\n",
    "        TPs.append(true_positives)\n",
    "    return np.array(TPs, dtype=np.int32)\n",
    "\n",
    "print(\"TP column for Caucasian:\", get_TP_column(summary[summary['race']=='Caucasian']))\n",
    "\n",
    "assert(get_hash(get_TP_column(summary[summary['race']=='Caucasian'])) == 'fdca79d31fe11760d9c6a06a4f8cb660')\n",
    "print(\"Test passed!\")\n"
   ]
  },
  {
   "cell_type": "code",
   "execution_count": 10,
   "metadata": {
    "scrolled": true
   },
   "outputs": [
    {
     "name": "stdout",
     "output_type": "stream",
     "text": [
      "TN column for Caucasian: [   0  477  698  854  999 1108 1175 1220 1244 1266]\n",
      "Test passed!\n"
     ]
    }
   ],
   "source": [
    "# TODO: compute the number of true negatives assuming the decision threshold \n",
    "# occurs just below each decile_score.\n",
    "def get_TN_column(summary_df):\n",
    "    \"\"\"Returns an array of the number of true negatives for each decile_score threshold.\n",
    "    \n",
    "    Args:\n",
    "      summary_df: dataframe containing columns for 'decile_score', 'recid_count', \n",
    "        'non_recid_count', and 'total_count' for a given race.\n",
    "    \n",
    "    Returns:\n",
    "      An array of the number of true negatives for each decile_score (under the assumption that every example\n",
    "      receiving that row's decile_score or above is classified as positive -- aka, the decision threshold occurs\n",
    "      just below the row's decile score.)\n",
    "    \"\"\"\n",
    "    TNs = []\n",
    "    for threshold in summary_df['decile_score']:\n",
    "        true_negatives = summary_df[summary_df['decile_score'] < threshold]['non_recid_count'].sum()\n",
    "        # TODO: compute the number of true negatives for this threshold.  \n",
    "        TNs.append(true_negatives)\n",
    "    return np.array(TNs, dtype=np.int32)\n",
    "\n",
    "print(\"TN column for Caucasian:\", get_TN_column(summary[summary['race']=='Caucasian']))\n",
    "\n",
    "assert(get_hash(get_TN_column(summary[summary['race']=='Caucasian']))  == '8175ee4854079441b234ca97e7f9a1c5')\n",
    "print(\"Test passed!\")"
   ]
  },
  {
   "cell_type": "code",
   "execution_count": 11,
   "metadata": {},
   "outputs": [
    {
     "name": "stdout",
     "output_type": "stream",
     "text": [
      "FP column for Caucasian: [1281  804  583  427  282  173  106   61   37   15]\n",
      "Test passed!\n"
     ]
    }
   ],
   "source": [
    "# TODO: compute the number of false positives assuming the decision threshold \n",
    "# occurs just below each decile_score.\n",
    "def get_FP_column(summary_df):\n",
    "    \"\"\"Returns an array of the number of false positives for each decile_score threshold.\n",
    "    \n",
    "    Args:\n",
    "      summary_df: dataframe containing columns for 'decile_score', 'recid_count', \n",
    "        'non_recid_count', and 'total_count' for a given race.\n",
    "    \n",
    "    Returns:\n",
    "      An array of the number of false positives for each decile_score (under the assumption that every example\n",
    "      receiving that row's decile_score or above is classified as positive -- aka, the decision threshold occurs\n",
    "      just below the row's decile score.)\n",
    "    \"\"\"\n",
    "    FPs = []\n",
    "    for threshold in summary_df['decile_score']:\n",
    "        false_positives = summary_df[summary_df['decile_score'] >= threshold]['non_recid_count'].sum()\n",
    "        # TODO: compute the number of false positives for this threshold.           \n",
    "        FPs.append(false_positives)\n",
    "    return np.array(FPs, dtype=np.int32)\n",
    "\n",
    "print(\"FP column for Caucasian:\", get_FP_column(summary[summary['race']=='Caucasian']))\n",
    "\n",
    "assert(get_hash(get_FP_column(summary[summary['race']=='Caucasian']))  == 'bc995fd0c02ad77eb6924ea48482f9ed')\n",
    "print(\"Test passed!\")\n"
   ]
  },
  {
   "cell_type": "code",
   "execution_count": 12,
   "metadata": {
    "scrolled": true
   },
   "outputs": [
    {
     "name": "stdout",
     "output_type": "stream",
     "text": [
      "FN column for Caucasian: [  0 128 228 310 408 499 592 660 732 787]\n",
      "Test passed!\n"
     ]
    }
   ],
   "source": [
    "# TODO: compute the number of false negatives assuming the decision threshold \n",
    "# occurs just below each decile_score.\n",
    "def get_FN_column(summary_df):\n",
    "    \"\"\"Returns an array of the number of false negatives for each decile_score threshold.\n",
    "    \n",
    "    Args:\n",
    "      summary_df: dataframe containing columns for 'decile_score', 'recid_count', \n",
    "        'non_recid_count', and 'total_count' for a given race.\n",
    "    \n",
    "    Returns:\n",
    "      An array of the number of false negatives for each decile_score (under the assumption that every example\n",
    "      receiving that row's decile_score or above is classified as positive -- aka, the decision threshold occurs\n",
    "      just below the row's decile score.)\n",
    "    \"\"\"\n",
    "    FNs = []\n",
    "    for threshold in summary_df['decile_score']:\n",
    "        false_negatives =  summary_df[summary_df['decile_score'] < threshold]['recid_count'].sum()\n",
    "        # TODO: compute the number of false negatives for this threshold. \n",
    "        FNs.append(false_negatives)\n",
    "    return np.array(FNs, dtype=np.int32)\n",
    "\n",
    "print(\"FN column for Caucasian:\", get_FN_column(summary[summary['race']=='Caucasian']))\n",
    "\n",
    "assert(get_hash(get_FN_column(summary[summary['race']=='Caucasian']))  == 'f680125060a0bfb18a1447c6658fdfb8')\n",
    "print(\"Test passed!\")\n"
   ]
  },
  {
   "cell_type": "code",
   "execution_count": 13,
   "metadata": {},
   "outputs": [],
   "source": [
    "# Note: no TODOs in this cell, just run it to assign the columns you created to the summary dataframe.\n",
    "# Fill in the TP, TN, FP, FN for each race.\n",
    "for race in races:\n",
    "    rows = summary['race'] == race\n",
    "    summary.loc[rows, 'TP'] = get_TP_column(summary[rows])\n",
    "    summary.loc[rows, 'TN'] = get_TN_column(summary[rows])\n",
    "    summary.loc[rows, 'FP'] = get_FP_column(summary[rows])\n",
    "    summary.loc[rows, 'FN'] = get_FN_column(summary[rows])\n",
    "summary.fillna(0 , inplace=True)"
   ]
  },
  {
   "cell_type": "code",
   "execution_count": 14,
   "metadata": {
    "scrolled": true
   },
   "outputs": [
    {
     "data": {
      "text/html": [
       "<div>\n",
       "<style scoped>\n",
       "    .dataframe tbody tr th:only-of-type {\n",
       "        vertical-align: middle;\n",
       "    }\n",
       "\n",
       "    .dataframe tbody tr th {\n",
       "        vertical-align: top;\n",
       "    }\n",
       "\n",
       "    .dataframe thead th {\n",
       "        text-align: right;\n",
       "    }\n",
       "</style>\n",
       "<table border=\"1\" class=\"dataframe\">\n",
       "  <thead>\n",
       "    <tr style=\"text-align: right;\">\n",
       "      <th></th>\n",
       "      <th>race</th>\n",
       "      <th>decile_score</th>\n",
       "      <th>recid_count</th>\n",
       "      <th>non_recid_count</th>\n",
       "      <th>total_count</th>\n",
       "      <th>TP</th>\n",
       "      <th>TN</th>\n",
       "      <th>FP</th>\n",
       "      <th>FN</th>\n",
       "    </tr>\n",
       "  </thead>\n",
       "  <tbody>\n",
       "    <tr>\n",
       "      <th>0</th>\n",
       "      <td>African-American</td>\n",
       "      <td>1</td>\n",
       "      <td>85</td>\n",
       "      <td>280</td>\n",
       "      <td>365</td>\n",
       "      <td>1661.0</td>\n",
       "      <td>0.0</td>\n",
       "      <td>1514.0</td>\n",
       "      <td>0.0</td>\n",
       "    </tr>\n",
       "    <tr>\n",
       "      <th>1</th>\n",
       "      <td>African-American</td>\n",
       "      <td>2</td>\n",
       "      <td>105</td>\n",
       "      <td>241</td>\n",
       "      <td>346</td>\n",
       "      <td>1576.0</td>\n",
       "      <td>280.0</td>\n",
       "      <td>1234.0</td>\n",
       "      <td>85.0</td>\n",
       "    </tr>\n",
       "    <tr>\n",
       "      <th>2</th>\n",
       "      <td>African-American</td>\n",
       "      <td>3</td>\n",
       "      <td>125</td>\n",
       "      <td>173</td>\n",
       "      <td>298</td>\n",
       "      <td>1471.0</td>\n",
       "      <td>521.0</td>\n",
       "      <td>993.0</td>\n",
       "      <td>190.0</td>\n",
       "    </tr>\n",
       "    <tr>\n",
       "      <th>3</th>\n",
       "      <td>African-American</td>\n",
       "      <td>4</td>\n",
       "      <td>158</td>\n",
       "      <td>179</td>\n",
       "      <td>337</td>\n",
       "      <td>1346.0</td>\n",
       "      <td>694.0</td>\n",
       "      <td>820.0</td>\n",
       "      <td>315.0</td>\n",
       "    </tr>\n",
       "    <tr>\n",
       "      <th>4</th>\n",
       "      <td>African-American</td>\n",
       "      <td>5</td>\n",
       "      <td>158</td>\n",
       "      <td>165</td>\n",
       "      <td>323</td>\n",
       "      <td>1188.0</td>\n",
       "      <td>873.0</td>\n",
       "      <td>641.0</td>\n",
       "      <td>473.0</td>\n",
       "    </tr>\n",
       "    <tr>\n",
       "      <th>5</th>\n",
       "      <td>African-American</td>\n",
       "      <td>6</td>\n",
       "      <td>187</td>\n",
       "      <td>131</td>\n",
       "      <td>318</td>\n",
       "      <td>1030.0</td>\n",
       "      <td>1038.0</td>\n",
       "      <td>476.0</td>\n",
       "      <td>631.0</td>\n",
       "    </tr>\n",
       "    <tr>\n",
       "      <th>6</th>\n",
       "      <td>African-American</td>\n",
       "      <td>7</td>\n",
       "      <td>209</td>\n",
       "      <td>134</td>\n",
       "      <td>343</td>\n",
       "      <td>843.0</td>\n",
       "      <td>1169.0</td>\n",
       "      <td>345.0</td>\n",
       "      <td>818.0</td>\n",
       "    </tr>\n",
       "    <tr>\n",
       "      <th>7</th>\n",
       "      <td>African-American</td>\n",
       "      <td>8</td>\n",
       "      <td>215</td>\n",
       "      <td>86</td>\n",
       "      <td>301</td>\n",
       "      <td>634.0</td>\n",
       "      <td>1303.0</td>\n",
       "      <td>211.0</td>\n",
       "      <td>1027.0</td>\n",
       "    </tr>\n",
       "    <tr>\n",
       "      <th>8</th>\n",
       "      <td>African-American</td>\n",
       "      <td>9</td>\n",
       "      <td>229</td>\n",
       "      <td>88</td>\n",
       "      <td>317</td>\n",
       "      <td>419.0</td>\n",
       "      <td>1389.0</td>\n",
       "      <td>125.0</td>\n",
       "      <td>1242.0</td>\n",
       "    </tr>\n",
       "    <tr>\n",
       "      <th>9</th>\n",
       "      <td>African-American</td>\n",
       "      <td>10</td>\n",
       "      <td>190</td>\n",
       "      <td>37</td>\n",
       "      <td>227</td>\n",
       "      <td>190.0</td>\n",
       "      <td>1477.0</td>\n",
       "      <td>37.0</td>\n",
       "      <td>1471.0</td>\n",
       "    </tr>\n",
       "    <tr>\n",
       "      <th>10</th>\n",
       "      <td>Caucasian</td>\n",
       "      <td>1</td>\n",
       "      <td>128</td>\n",
       "      <td>477</td>\n",
       "      <td>605</td>\n",
       "      <td>822.0</td>\n",
       "      <td>0.0</td>\n",
       "      <td>1281.0</td>\n",
       "      <td>0.0</td>\n",
       "    </tr>\n",
       "    <tr>\n",
       "      <th>11</th>\n",
       "      <td>Caucasian</td>\n",
       "      <td>2</td>\n",
       "      <td>100</td>\n",
       "      <td>221</td>\n",
       "      <td>321</td>\n",
       "      <td>694.0</td>\n",
       "      <td>477.0</td>\n",
       "      <td>804.0</td>\n",
       "      <td>128.0</td>\n",
       "    </tr>\n",
       "    <tr>\n",
       "      <th>12</th>\n",
       "      <td>Caucasian</td>\n",
       "      <td>3</td>\n",
       "      <td>82</td>\n",
       "      <td>156</td>\n",
       "      <td>238</td>\n",
       "      <td>594.0</td>\n",
       "      <td>698.0</td>\n",
       "      <td>583.0</td>\n",
       "      <td>228.0</td>\n",
       "    </tr>\n",
       "    <tr>\n",
       "      <th>13</th>\n",
       "      <td>Caucasian</td>\n",
       "      <td>4</td>\n",
       "      <td>98</td>\n",
       "      <td>145</td>\n",
       "      <td>243</td>\n",
       "      <td>512.0</td>\n",
       "      <td>854.0</td>\n",
       "      <td>427.0</td>\n",
       "      <td>310.0</td>\n",
       "    </tr>\n",
       "    <tr>\n",
       "      <th>14</th>\n",
       "      <td>Caucasian</td>\n",
       "      <td>5</td>\n",
       "      <td>91</td>\n",
       "      <td>109</td>\n",
       "      <td>200</td>\n",
       "      <td>414.0</td>\n",
       "      <td>999.0</td>\n",
       "      <td>282.0</td>\n",
       "      <td>408.0</td>\n",
       "    </tr>\n",
       "    <tr>\n",
       "      <th>15</th>\n",
       "      <td>Caucasian</td>\n",
       "      <td>6</td>\n",
       "      <td>93</td>\n",
       "      <td>67</td>\n",
       "      <td>160</td>\n",
       "      <td>323.0</td>\n",
       "      <td>1108.0</td>\n",
       "      <td>173.0</td>\n",
       "      <td>499.0</td>\n",
       "    </tr>\n",
       "    <tr>\n",
       "      <th>16</th>\n",
       "      <td>Caucasian</td>\n",
       "      <td>7</td>\n",
       "      <td>68</td>\n",
       "      <td>45</td>\n",
       "      <td>113</td>\n",
       "      <td>230.0</td>\n",
       "      <td>1175.0</td>\n",
       "      <td>106.0</td>\n",
       "      <td>592.0</td>\n",
       "    </tr>\n",
       "    <tr>\n",
       "      <th>17</th>\n",
       "      <td>Caucasian</td>\n",
       "      <td>8</td>\n",
       "      <td>72</td>\n",
       "      <td>24</td>\n",
       "      <td>96</td>\n",
       "      <td>162.0</td>\n",
       "      <td>1220.0</td>\n",
       "      <td>61.0</td>\n",
       "      <td>660.0</td>\n",
       "    </tr>\n",
       "    <tr>\n",
       "      <th>18</th>\n",
       "      <td>Caucasian</td>\n",
       "      <td>9</td>\n",
       "      <td>55</td>\n",
       "      <td>22</td>\n",
       "      <td>77</td>\n",
       "      <td>90.0</td>\n",
       "      <td>1244.0</td>\n",
       "      <td>37.0</td>\n",
       "      <td>732.0</td>\n",
       "    </tr>\n",
       "    <tr>\n",
       "      <th>19</th>\n",
       "      <td>Caucasian</td>\n",
       "      <td>10</td>\n",
       "      <td>35</td>\n",
       "      <td>15</td>\n",
       "      <td>50</td>\n",
       "      <td>35.0</td>\n",
       "      <td>1266.0</td>\n",
       "      <td>15.0</td>\n",
       "      <td>787.0</td>\n",
       "    </tr>\n",
       "  </tbody>\n",
       "</table>\n",
       "</div>"
      ],
      "text/plain": [
       "                race  decile_score  recid_count  non_recid_count  total_count  \\\n",
       "0   African-American             1           85              280          365   \n",
       "1   African-American             2          105              241          346   \n",
       "2   African-American             3          125              173          298   \n",
       "3   African-American             4          158              179          337   \n",
       "4   African-American             5          158              165          323   \n",
       "5   African-American             6          187              131          318   \n",
       "6   African-American             7          209              134          343   \n",
       "7   African-American             8          215               86          301   \n",
       "8   African-American             9          229               88          317   \n",
       "9   African-American            10          190               37          227   \n",
       "10         Caucasian             1          128              477          605   \n",
       "11         Caucasian             2          100              221          321   \n",
       "12         Caucasian             3           82              156          238   \n",
       "13         Caucasian             4           98              145          243   \n",
       "14         Caucasian             5           91              109          200   \n",
       "15         Caucasian             6           93               67          160   \n",
       "16         Caucasian             7           68               45          113   \n",
       "17         Caucasian             8           72               24           96   \n",
       "18         Caucasian             9           55               22           77   \n",
       "19         Caucasian            10           35               15           50   \n",
       "\n",
       "        TP      TN      FP      FN  \n",
       "0   1661.0     0.0  1514.0     0.0  \n",
       "1   1576.0   280.0  1234.0    85.0  \n",
       "2   1471.0   521.0   993.0   190.0  \n",
       "3   1346.0   694.0   820.0   315.0  \n",
       "4   1188.0   873.0   641.0   473.0  \n",
       "5   1030.0  1038.0   476.0   631.0  \n",
       "6    843.0  1169.0   345.0   818.0  \n",
       "7    634.0  1303.0   211.0  1027.0  \n",
       "8    419.0  1389.0   125.0  1242.0  \n",
       "9    190.0  1477.0    37.0  1471.0  \n",
       "10   822.0     0.0  1281.0     0.0  \n",
       "11   694.0   477.0   804.0   128.0  \n",
       "12   594.0   698.0   583.0   228.0  \n",
       "13   512.0   854.0   427.0   310.0  \n",
       "14   414.0   999.0   282.0   408.0  \n",
       "15   323.0  1108.0   173.0   499.0  \n",
       "16   230.0  1175.0   106.0   592.0  \n",
       "17   162.0  1220.0    61.0   660.0  \n",
       "18    90.0  1244.0    37.0   732.0  \n",
       "19    35.0  1266.0    15.0   787.0  "
      ]
     },
     "execution_count": 14,
     "metadata": {},
     "output_type": "execute_result"
    }
   ],
   "source": [
    "summary"
   ]
  },
  {
   "cell_type": "markdown",
   "metadata": {},
   "source": [
    "## 1c) Plot the ROC curve for each race. \n",
    "Here, we will compute the the true positive rate (TPR), false positive rate (FPR), and positive predictive value (PPV) metrics. PPV is also known as precision, and is defined as the number of true positives divided by the number of examples classified as positive. \n",
    "\n",
    "Then, we will plot the ROC curve for each race. \n"
   ]
  },
  {
   "cell_type": "code",
   "execution_count": 15,
   "metadata": {},
   "outputs": [
    {
     "name": "stdout",
     "output_type": "stream",
     "text": [
      "Test passed!\n"
     ]
    }
   ],
   "source": [
    "# TODO: compute the TPR for each race using other columns in summary.\n",
    "summary['TPR'] = summary['TP'] / (summary['TP'] + summary['FN']) # TODO: fill in the columns to use.\n",
    "\n",
    "assert(get_hash(np.array(summary['TPR'].round(1), dtype=np.float32)) == '4e6755717caed5f4d6a62fc6fe8abbee')\n",
    "print(\"Test passed!\")"
   ]
  },
  {
   "cell_type": "code",
   "execution_count": 16,
   "metadata": {},
   "outputs": [
    {
     "name": "stdout",
     "output_type": "stream",
     "text": [
      "Test passed!\n"
     ]
    }
   ],
   "source": [
    "# TODO: compute the FPR for each race using other columns in summary.\n",
    "summary['FPR'] = summary['FP'] / (summary['FP'] + summary['TN']) # TODO: fill in the columns to use.\n",
    "\n",
    "assert(get_hash(np.array(summary['FPR'].round(1), dtype=np.float32)) == 'e0eba6216d5fada1d6eabbfe568c527b')\n",
    "print(\"Test passed!\")"
   ]
  },
  {
   "cell_type": "code",
   "execution_count": 17,
   "metadata": {},
   "outputs": [
    {
     "name": "stdout",
     "output_type": "stream",
     "text": [
      "Test passed!\n"
     ]
    }
   ],
   "source": [
    "# TODO: compute the PPV for each race using other columns in summary.\n",
    "summary['PPV'] = summary['TP'] / (summary['TP'] + summary['FP']) # TODO: fill in the columns to use.\n",
    "\n",
    "assert(get_hash(np.array(summary['PPV'].round(1), dtype=np.float32))  == '6db5b24b7cd46af910f6a781eee40134')\n",
    "print(\"Test passed!\")"
   ]
  },
  {
   "cell_type": "code",
   "execution_count": 18,
   "metadata": {},
   "outputs": [
    {
     "data": {
      "image/png": "[encoded data removed]",
      "text/plain": [
       "<Figure size 432x288 with 1 Axes>"
      ]
     },
     "metadata": {
      "needs_background": "light"
     },
     "output_type": "display_data"
    }
   ],
   "source": [
    "# TODO: plot the ROC curve for each race.\n",
    "plt.figure()\n",
    "\n",
    "for race in races: \n",
    "    rows = summary[summary['race']==race]\n",
    "    plt.plot(rows['FPR'], rows['TPR'], '-o', label=race) # TODO: fill in the correct columns to use.\n",
    "    \n",
    "plt.legend()\n",
    "plt.xlabel('FPR') # TODO: fill in the correct labels for the x axis on an ROC curve.\n",
    "plt.ylabel('TPR') # TODO: fill in the correct labels for the y axis on an ROC curve.\n",
    "plt.show()"
   ]
  },
  {
   "cell_type": "markdown",
   "metadata": {},
   "source": [
    "\n",
    "## 1d) Equalizing TPR and FPR.\n",
    "Can you find two thresholds (one for black defendants, one for white defendants) such that FPR and TPR are roughly equal for the two groups (say, within 1% of each other)? \n",
    "Note: trivial thresholds of 0 or 11\n",
    "don’t count. Hint: it may be helpful to look at the ROC curves for each race."
   ]
  },
  {
   "cell_type": "code",
   "execution_count": 19,
   "metadata": {
    "scrolled": true
   },
   "outputs": [],
   "source": [
    "# TODO: choose a decision threshold for each race corresponding to a \n",
    "# decile_score between 1 and 10 such that the FPR and TPR are \n",
    "# roughly equal for the two races.\n",
    "\n",
    "caucasian_threshold = 3 # TODO: choose a decision threshold to use for the subset of data with race = Caucasian.\n",
    "african_american_threshold = 5 # TODO: choose a decision threshold to use for the subset of data with race = African-American.\n",
    "\n",
    "thresh = {'Caucasian': caucasian_threshold, 'African-American': african_american_threshold}  "
   ]
  },
  {
   "cell_type": "code",
   "execution_count": 20,
   "metadata": {},
   "outputs": [
    {
     "name": "stdout",
     "output_type": "stream",
     "text": [
      "for African-American, fpr=0.4233817701453104 and tpr=0.7152317880794702\n",
      "for Caucasian, fpr=0.45511319281811086 and tpr=0.7226277372262774\n"
     ]
    }
   ],
   "source": [
    "# Measure the TPR and FPRs for the thresholds you chose.\n",
    "# Note: no TODOs in this cell, just run it and observe the result.\n",
    "for race in races:\n",
    "    fpr = float(summary[(summary['race'] == race) & (summary['decile_score'] == thresh[race])]['FPR'])\n",
    "    tpr = float(summary[(summary['race'] == race) & (summary['decile_score'] == thresh[race])]['TPR'])\n",
    "    print(\"for {}, fpr={} and tpr={}\".format(race, fpr, tpr))"
   ]
  },
  {
   "cell_type": "code",
   "execution_count": 21,
   "metadata": {
    "scrolled": false
   },
   "outputs": [
    {
     "name": "stdout",
     "output_type": "stream",
     "text": [
      "for African-American, ppv=0.6495352651722253\n",
      "for Caucasian, ppv=0.5046728971962616\n"
     ]
    }
   ],
   "source": [
    "# Compute the PPV for the thresholds that you chose. Does equalizing TPR and FPR also equalize PPV?\n",
    "# Note: no TODOs in this cell, just run it and observe the result.\n",
    "for race in races:\n",
    "    ppv = float(summary[(summary['race'] == race) & (summary['decile_score'] == thresh[race])]['PPV'])\n",
    "    print(\"for {}, ppv={}\".format(race, ppv))"
   ]
  },
  {
   "cell_type": "markdown",
   "metadata": {},
   "source": [
    " ## 1e) Conclusions and implications\n",
    "In this lab, we studied the consequences of creating a binary classifier by applying a decision threshold to a numerical score (COMPAS's `decile_score`). For different decision thresholds, we measured the TPR, FPR, and the PPV. Now, we will take a closer look at what those measurements mean in the context of fairness.\n",
    "\n",
    "Chapter 2 of [Fairness and Machine Learning: Limitations and Opportunities](https://fairmlbook.org) introduces the concepts of **Sufficiency** and **Separation** as possible non-discrimination criteria. \n",
    "\n",
    "1. Separation says that the classifier decisions are independent of the sensitive attribute (race) conditioned on the label (whether or not recidivism occurred). In other words, for all of the examples where recidivism actually occurred, the probability that the classifier outputs a positive decision should not differ between the races. Which of the metrics we measured today (TPR, FPR, and PPV) best signals whether the classifier achieves separation? Does the classifier we chose in 1d) achieve separation? \n",
    "\n",
    "TPR would be the best to signal whether the classifier achieves separation. Since we want to see all the examples where recidivism actually occured (which is all the real positives) and measure how we output a positive (which is all positive decisions), the TPR measures exactly that. Based on our classifer, there is separation because the TPR is basically the same between the two races, hence the decisions are independent of he sensitive attribute (race) conditioned on the label.\n",
    "\n",
    "2. Sufficiency says that the label (whether or not recidivism occurred) is independent of the sensitive attribute (race) conditioned on the classifier decisions. In other words, for all of the examples where the classifier outputs a positive decision, the probability of recidivism actually having occurred for those examples should not differ between the races. Which of the metrics we measured today (TPR, FPR, and PPV) best signals whether the classifier achieves sufficiency? Does the classifier we chose in 1d) achieve sufficiency?\n",
    "\n",
    "PPV best signifies whether or not sufficiency occured. Since we are analyzing all the examples where the classifer outputs a positive decision (denominator of PPV) and then looking at the TP, it corresponds with the formula for PPV. The PPV for African American and Caucasian are quite far apart, hence the classifier does not achieve sufficiency."
   ]
  },
  {
   "cell_type": "code",
   "execution_count": null,
   "metadata": {},
   "outputs": [],
   "source": []
  }
 ],
 "metadata": {
  "kernelspec": {
   "display_name": "Python 3",
   "language": "python",
   "name": "python3"
  },
  "language_info": {
   "codemirror_mode": {
    "name": "ipython",
    "version": 3
   },
   "file_extension": ".py",
   "mimetype": "text/x-python",
   "name": "python",
   "nbconvert_exporter": "python",
   "pygments_lexer": "ipython3",
   "version": "3.7.3"
  }
 },
 "nbformat": 4,
 "nbformat_minor": 2
}
